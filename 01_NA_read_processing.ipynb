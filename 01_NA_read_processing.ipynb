{
 "cells": [
  {
   "cell_type": "markdown",
   "id": "08331499",
   "metadata": {},
   "source": [
    "# Welcome to the Bioinformatics Analysis of Microbiome Data\n",
    "\n",
    "\n",
    "We will be using [**QIIME2**] (https://qiime2.org) to analyse the read data. Instead of working locally, we will run our analyses on [**Google Colab**], a free, cloud-based platform that allows you to write and execute code in a web browser without needing to install software on your computer. \n",
    "\n",
    "This notebook and corresponding setup script have been adapted from the [**uzh-microbiome-tutorial**](https://github.com/bokulich-lab/uzh-microbiome-tutorial.git); all source code is licensed under the Apache License 2.0.\n",
    "\n",
    "\n",
    "**Notes:**\n",
    "\n",
    "-**Bash commands**\n",
    "Google Colab, by default, interprets code as Python. However, many tasks—like downloading files, moving directories, or running software like QIIME 2—are done using bash commands. To run these bash commands in Colab, we prefix them with `!`. This allows us to interact with QIIME2 using the [`q2cli`](https://github.com/qiime2/q2cli/) (QIIME 2 command-line interface). You would not need to use this prefix when using the terminal. \n",
    "\n",
    "\n",
    "-**Read before you run**\n",
    "You can run all cells in the notebook by going to `Runtime > Run all`. However, it is best to run the commands bit by bit to integrate the information and understand what we are doing. "
   ]
  },
  {
   "cell_type": "markdown",
   "id": "9bc038c3",
   "metadata": {},
   "source": [
    "## Setup\n",
    "\n",
    "QIIME 2 is usually installed by following the [official installation instructions](https://docs.qiime2.org/2023.9/install/). However, because we are using Google Colab and there are some caveats to using conda here, we will use the setup script obtained from our collaborators at the Bokulich lab. \n",
    "\n",
    "We start by cloning the repository down from GitHub into a directory named \"materials\" (this is within the \"content\" directory). \n",
    "\n",
    "Note: This command is intended for use in Google Colab. If working locally, you would clone the repository on your machine. "
   ]
  },
  {
   "cell_type": "code",
   "execution_count": null,
   "id": "c31ae1be",
   "metadata": {},
   "outputs": [],
   "source": [
    "! git clone https://github.com/natashaztarora/BME307_2024.git materials\n",
    "! mkdir /content/prefetch_cache ## This directory is necessary for Google Colab."
   ]
  },
  {
   "cell_type": "markdown",
   "id": "18d62eb1",
   "metadata": {},
   "source": [
    "Next we navigate to the \"materials\" directory and create a new subdirectory called \"uzh\" within it."
   ]
  },
  {
   "cell_type": "code",
   "execution_count": null,
   "id": "4701122b",
   "metadata": {},
   "outputs": [],
   "source": [
    "%cd materials\n",
    "! mkdir uzh"
   ]
  },
  {
   "cell_type": "markdown",
   "id": "07ba9be2",
   "metadata": {},
   "source": [
    "Now we are ready to set up our environment: we will be installing dependencies and configuring the environemnt. This will take about 10 minutes.\n",
    "**Note:** This setup is only relevant for Google Colaboratory and will not work on your local machine."
   ]
  },
  {
   "cell_type": "code",
   "execution_count": null,
   "id": "8235d9b7",
   "metadata": {},
   "outputs": [],
   "source": [
    "%run setup_qiime2"
   ]
  },
  {
   "cell_type": "markdown",
   "id": "62eac2cd",
   "metadata": {},
   "source": [
    "And we will use some Python packages below, so let's load these here:"
   ]
  },
  {
   "cell_type": "code",
   "execution_count": null,
   "id": "f5e36949",
   "metadata": {},
   "outputs": [],
   "source": [
    "import numpy as np\n",
    "import pandas as pd\n",
    "import seaborn as sns"
   ]
  },
  {
   "cell_type": "markdown",
   "id": "27558d1c",
   "metadata": {},
   "source": [
    "Before we import the raw sequence data into QIIME2, let's create a new directory inside \"content/materials/uzh\" called \"raw_data_zipped\" and upload the fastq files you have downloaded from SwitchDrive. "
   ]
  },
  {
   "cell_type": "code",
   "execution_count": null,
   "id": "874dc220",
   "metadata": {},
   "outputs": [],
   "source": [
    "%cd uzh\n",
    "! mkdir raw_data_zipped"
   ]
  },
  {
   "cell_type": "markdown",
   "id": "84bc013b",
   "metadata": {},
   "source": [
    "## Import data into QIIME 2"
   ]
  },
  {
   "cell_type": "markdown",
   "id": "741153c7",
   "metadata": {},
   "source": [
    "Next, we will import our reads into QIIME 2 and convert them into the file format that is required for QIIME2 analyses.\n",
    "\n",
    "### How we do this\n",
    "\n",
    "We run qiime tools import specifying the following parameters:\n",
    "\n",
    "-type: whether your data is single-end or paired-end\n",
    "-input-format specifies the format of the data. The available choices are provided [**here**] (https://docs.qiime2.org/2024.5/tutorials/importing/)\n",
    "-output-path: species the output path of the artefact you generate.\n",
    "\n",
    "Run the following command:"
   ]
  },
  {
   "cell_type": "code",
   "execution_count": null,
   "id": "5274154b",
   "metadata": {},
   "outputs": [],
   "source": [
    "! qiime tools import \\\n",
    "    --type 'SampleData[PairedEndSequencesWithQuality]' \\\n",
    "    --input-path raw_data_zipped \\\n",
    "    --input-format CasavaOneEightSingleLanePerSampleDirFmt \\\n",
    "    --output-path demux-paired-end.qza"
   ]
  },
  {
   "cell_type": "markdown",
   "id": "1807cdf3",
   "metadata": {},
   "source": [
    "You can now check whether the data was imported by running qiime demux summarise, specifying the name of the input file and the name of the artefact you want to generate. You can visualise this artefact by dropping it in QIIME2 view (https://view.qiime2.org/)."
   ]
  },
  {
   "cell_type": "code",
   "execution_count": null,
   "id": "e1ccd78d",
   "metadata": {},
   "outputs": [],
   "source": [
    "! qiime demux summarize \\\n",
    "    --i-data demux-paired-end.qza \\\n",
    "    --o-visualization qualities.qzv"
   ]
  },
  {
   "cell_type": "markdown",
   "id": "ba5a0055",
   "metadata": {},
   "source": [
    "Now let's explore the outputs (QZV) with [view.qiime2.org](https://view.qiime2.org)."
   ]
  },
  {
   "cell_type": "markdown",
   "id": "ccd987fc",
   "metadata": {},
   "source": [
    "## Remove primers with Cutadapt"
   ]
  },
  {
   "cell_type": "markdown",
   "id": "164656be",
   "metadata": {},
   "source": [
    "We need to remove the primers that were used for targeted amplification. \n",
    "\n",
    "\n",
    "### How we do this\n",
    "\n",
    "To do this we use cutadapt trim-paired, specifying these main parameters:\n",
    "\n",
    "-forward primer: which is “GTGYCAGCMGCCGCGGTAA”\n",
    "-reverse primer: which is “CCGYCAATTYMTTTRAGTTT”\n",
    "-whether you have wobble bases\n",
    "-whether you should discard reads that were not trimmed"
   ]
  },
  {
   "cell_type": "code",
   "execution_count": null,
   "id": "4d3d565f",
   "metadata": {},
   "outputs": [],
   "source": [
    "! qiime cutadapt trim-paired \\\n",
    "    --i-demultiplexed-sequences demux-paired-end.qza \\\n",
    "    --p-front-f GTGYCAGCMGCCGCGGTAA \\\n",
    "    --p-front-r CCGYCAATTYMTTTRAGTTT \\\n",
    "    --p-match-adapter-wildcards \\\n",
    "    --p-discard-untrimmed \\\n",
    "    --verbose \\\n",
    "    --o-trimmed-sequences paired-end-demux-trimmed.qza | tee cutadaptresults.log\n"
   ]
  },
  {
   "cell_type": "markdown",
   "id": "99402178",
   "metadata": {},
   "source": [
    "Summarise the .qza artefact using the command below, and then visualise the trimmed reads in QIIME 2 view (https://view.qiime2.org/)."
   ]
  },
  {
   "cell_type": "code",
   "execution_count": null,
   "id": "560dce64",
   "metadata": {},
   "outputs": [],
   "source": [
    "! qiime demux summarize \\\n",
    "    --i-data paired-end-demux-trimmed.qza \\\n",
    "    --o-visualization paired-end-demux-trimmed-summary.qzv "
   ]
  },
  {
   "cell_type": "markdown",
   "id": "2ef710e7",
   "metadata": {},
   "source": [
    "## Denoise with DADA2\n",
    "\n",
    "Now we will “denoise” the reads, that is, clean up the data to remove erroneous reads, endeavouring to retain only true biological reads. These reads may differ by one single nucleotide, and they are referred to as exact sequence variants (ESVs) or amplicon sequence variants (ASVs).\n",
    "\n",
    "### How denoising is done\n",
    "\n",
    "As we are working with paired end reads, we use qiime2 dada2 denoise-paired. Through this command, quality filtering, merging of forward and reverse reads, dereplication and removal of chimeras is conducted.\n",
    "\n",
    "The quality filtering aspect refers to trimming the ends of reads where quality is suboptimal, users can also discard sequences below a particular length. This step is done first to optimize the merging of forward and reverse reads. The merging is done according to default parameters (not specified in the command).\n",
    "\n",
    "Dereplication refers to checking the presence of all identical sequencing reads and then reducing these to one “unique sequence” with a note of its abundance. Removal of chimeras refers to the removal of sequences that are “hybrids” of different parent sequences, and which do not correspond to true ASVs..\n",
    "\n",
    "Here we will be specifying the following parameters:\n",
    "\n",
    "Truncation length for forward reads: at what length the forward reads will be cut and all reads below this length will be discarded\n",
    "Truncation length for reverse reads: at what length the reverse reads will be cut and all reads below this length will be discarded\n",
    "Note that now we will have 3 output files:\n",
    "\n",
    "1. an abundance table comprising the unique sequences and their abundance\n",
    "2. a fasta file with the unique sequences, which we refer to as the representative sequences\n",
    "3. a file containing the statistics for the denoising steps\n",
    "\n",
    "You can find more information on DADA2 here (https://benjjneb.github.io/dada2/).\n",
    "\n",
    "Run the following command:"
   ]
  },
  {
   "cell_type": "code",
   "execution_count": null,
   "id": "dcca75b7",
   "metadata": {
    "scrolled": true
   },
   "outputs": [],
   "source": [
    "! qiime dada2 denoise-paired \\\n",
    "    --i-demultiplexed-seqs paired-end-demux-trimmed.qza \\\n",
    "    --p-trunc-len-f 225 \\\n",
    "    --p-trunc-len-r 225 \\\n",
    "    --o-table table.qza \\\n",
    "    --o-representative-sequences rep-seqs.qza \\\n",
    "    --o-denoising-stats denoising-stats.qza "
   ]
  },
  {
   "cell_type": "markdown",
   "id": "fbd454e6",
   "metadata": {},
   "source": [
    "Open QIIME2 view (https://view.qiime2.org/) and drop the table.qzv in the drag&drop window to see the results."
   ]
  },
  {
   "cell_type": "markdown",
   "id": "a551cdeb",
   "metadata": {},
   "source": [
    "Optional command: Visualise the representative sequences after denoising with DADA2 We use qiime feature-table tabulate-seqs to see the unique/representative sequences.\n",
    "\n",
    "Run the following command:"
   ]
  },
  {
   "cell_type": "code",
   "execution_count": null,
   "id": "83d542fa",
   "metadata": {},
   "outputs": [],
   "source": [
    "! qiime feature-table summarize \\\n",
    "    --i-table QIIME2_files/table.qza \\\n",
    "    --o-visualization QIIME2_files/table.qzv \\\n",
    "    --m-sample-metadata-file Metadata/metadata.tsv"
   ]
  },
  {
   "cell_type": "markdown",
   "id": "89f5360a",
   "metadata": {},
   "source": [
    "## Assign taxonomy¶\n",
    "\n",
    "We now assign taxonomy to the unique/representative sequences found across all samples. We do this with the q2-feature-classifier plugin, making use of a pre-trained Naive Bayes classifier. This classifier is an algorithm that was trained on the SILVA reference database (downloadedDecember 2019) comprising hundreds of thousands of bacterial sequences with taxonomic information. The output is a file containing the results for the different taxonomic ranks (from domain to species), and the level of confidence for the taxonomic assignment."
   ]
  },
  {
   "cell_type": "code",
   "execution_count": null,
   "id": "d0b4fb4e",
   "metadata": {},
   "outputs": [],
   "source": [
    "! qiime feature-classifier classify-sklearn \\\n",
    "    --i-classifier Taxonomy_classifier/silva-138-ssu-nr99-99-V4V5-classifier.qza \\\n",
    "    --i-reads QIIME2_files/rep-seqs.qza \\\n",
    "    --o-classification QIIME2_files/taxonomy.qza\n"
   ]
  },
  {
   "cell_type": "markdown",
   "id": "be8fbba3",
   "metadata": {},
   "source": [
    "Tabulate the taxonomy with the following command. "
   ]
  },
  {
   "cell_type": "markdown",
   "id": "981e1a57",
   "metadata": {},
   "source": [
    "## Generate a phylogenetic tree\n",
    "\n",
    "Now to view the tree, you can try [iTOL](https://itol.embl.de/upload.cgi).\n",
    "\n",
    "After opening the web page, click Choose File and select the tree artifact we generated above. Click Upload: after a few seconds you should see the tree.\n",
    "\n",
    "You may find it easier to navigate the tree in its \"rectangular\" representation: to change the view, select the Rectangular option in the Mode section of the Basic tab."
   ]
  },
  {
   "cell_type": "code",
   "execution_count": null,
   "id": "eb3be404",
   "metadata": {},
   "outputs": [],
   "source": [
    "! qiime phylogeny align-to-tree-mafft-fasttree \\\n",
    "    --i-sequences dada2/representative_sequences.qza \\\n",
    "    --output-dir phylogeny"
   ]
  },
  {
   "cell_type": "markdown",
   "id": "fa8d6b7b",
   "metadata": {},
   "source": [
    "## Analyze phylogenetic diversity"
   ]
  },
  {
   "cell_type": "code",
   "execution_count": null,
   "id": "3d91d3bc",
   "metadata": {},
   "outputs": [],
   "source": [
    "! qiime diversity core-metrics-phylogenetic \\\n",
    "    --i-phylogeny phylogeny/rooted_tree.qza \\\n",
    "    --i-table dada2/table.qza \\\n",
    "    --p-sampling-depth 1100 \\\n",
    "    --m-metadata-file data/moving_pictures/moving_pictures_metadata.tsv \\\n",
    "    --output-dir core-metrics-results"
   ]
  },
  {
   "cell_type": "code",
   "execution_count": null,
   "id": "e8d3460a",
   "metadata": {},
   "outputs": [],
   "source": [
    "! qiime diversity alpha-group-significance \\\n",
    "    --i-alpha-diversity core-metrics-results/faith_pd_vector.qza \\\n",
    "    --m-metadata-file data/moving_pictures/moving_pictures_metadata.tsv \\\n",
    "    --o-visualization core-metrics-results/faith_pd_group_significance.qzv"
   ]
  },
  {
   "cell_type": "code",
   "execution_count": null,
   "id": "1c3af30d",
   "metadata": {},
   "outputs": [],
   "source": [
    "# Optional\n",
    "! qiime diversity alpha-group-significance \\\n",
    "    --i-alpha-diversity core-metrics-results/evenness_vector.qza \\\n",
    "    --m-metadata-file data/moving_pictures/moving_pictures_metadata.tsv \\\n",
    "    --o-visualization core-metrics-results/evenness_group_significance.qzv"
   ]
  },
  {
   "cell_type": "code",
   "execution_count": null,
   "id": "f9ddffbe",
   "metadata": {},
   "outputs": [],
   "source": [
    "! qiime emperor plot \\\n",
    "    --i-pcoa core-metrics-results/bray_curtis_pcoa_results.qza \\\n",
    "    --m-metadata-file data/moving_pictures/moving_pictures_metadata.tsv \\\n",
    "    --o-visualization core-metrics-results/bray_curtis_pcoa.qzv"
   ]
  },
  {
   "cell_type": "markdown",
   "id": "8d43d06a",
   "metadata": {},
   "source": [
    "## Classify by taxonomy\n",
    "\n",
    "There are several ways to classify your sequences into bacterial species. One of them is to use consensus assignment based on e.g. BLAST search of a sequence against a database of known sequences. Another one is using a machine learning classifier trained on a reference database to recognize corresponding bacterial species. We will use a pretrained classifier to identify bacterial species present in our samples.\n",
    "\n",
    "We can use the `classify-sklearn` action from the feature-classifier plugin to do that. This step will require the `FeatureData[Sequence]` artifact (containing our ASVs) that we generated previously and a pre-trained taxonomic classifier."
   ]
  },
  {
   "cell_type": "code",
   "execution_count": null,
   "id": "e8a70b25",
   "metadata": {},
   "outputs": [],
   "source": [
    "! wget https://data.qiime2.org/2023.9/common/gg-13-8-99-515-806-nb-weighted-classifier.qza"
   ]
  },
  {
   "cell_type": "code",
   "execution_count": null,
   "id": "cb05f935",
   "metadata": {},
   "outputs": [],
   "source": [
    "! qiime feature-classifier classify-sklearn \\\n",
    "    --i-reads dada2/representative_sequences.qza \\\n",
    "    --i-classifier gg-13-8-99-515-806-nb-weighted-classifier.qza \\\n",
    "    --p-n-jobs 2 \\\n",
    "    --output-dir taxonomy"
   ]
  },
  {
   "cell_type": "code",
   "execution_count": null,
   "id": "e04b4d2d",
   "metadata": {},
   "outputs": [],
   "source": [
    "! qiime metadata tabulate \\\n",
    "    --m-input-file taxonomy/classification.qza \\\n",
    "    --o-visualization taxonomy/classification.qzv"
   ]
  },
  {
   "cell_type": "code",
   "execution_count": null,
   "id": "98c59a56",
   "metadata": {},
   "outputs": [],
   "source": [
    "! qiime taxa barplot \\\n",
    "    --i-table dada2/table.qza \\\n",
    "    --i-taxonomy taxonomy/classification.qza \\\n",
    "    --m-metadata-file data/moving_pictures/moving_pictures_metadata.tsv \\\n",
    "    --o-visualization taxonomy/taxa_barplot.qzv"
   ]
  },
  {
   "cell_type": "markdown",
   "id": "00c19b24",
   "metadata": {},
   "source": [
    "## Optional section: Understand differentially abundant features\n",
    "\n",
    "This section may be omitted for time, but provides an interesting mechanistic view of microbiome interactions."
   ]
  },
  {
   "cell_type": "code",
   "execution_count": null,
   "id": "2fd3c26f",
   "metadata": {},
   "outputs": [],
   "source": [
    "! mkdir diff_abund\n",
    "\n",
    "! qiime taxa collapse \\\n",
    "    --i-table dada2/table.qza \\\n",
    "    --i-taxonomy taxonomy/classification.qza \\\n",
    "    --p-level 6 \\\n",
    "    --o-collapsed-table diff_abund/table_l6.qza"
   ]
  },
  {
   "cell_type": "code",
   "execution_count": null,
   "id": "0411f725",
   "metadata": {},
   "outputs": [],
   "source": [
    "! qiime composition add-pseudocount \\\n",
    "    --i-table diff_abund/table_l6.qza \\\n",
    "    --o-composition-table diff_abund/comp_table_l6.qza"
   ]
  },
  {
   "cell_type": "code",
   "execution_count": null,
   "id": "5c94e939",
   "metadata": {},
   "outputs": [],
   "source": [
    "! qiime feature-table filter-samples \\\n",
    "    --i-table diff_abund/comp_table_l6.qza \\\n",
    "    --m-metadata-file data/moving_pictures/moving_pictures_metadata.tsv \\\n",
    "    --p-where \"[body-site]='gut'\" \\\n",
    "    --o-filtered-table diff_abund/comp_gut_table_l6.qza"
   ]
  },
  {
   "cell_type": "code",
   "execution_count": null,
   "id": "b0598450",
   "metadata": {},
   "outputs": [],
   "source": [
    "! qiime composition ancom \\\n",
    "    --i-table diff_abund/comp_gut_table_l6.qza \\\n",
    "    --m-metadata-file data/moving_pictures/moving_pictures_metadata.tsv \\\n",
    "    --m-metadata-column subject \\\n",
    "    --o-visualization diff_abund/ancom_gut_subject_l6.qzv"
   ]
  },
  {
   "cell_type": "markdown",
   "id": "00b9c64e",
   "metadata": {},
   "source": [
    "# Additional Tools\n",
    "* `q2-fondue`\n",
    "* Beta diversity methods in `q2-diversity`:\n",
    "  * `qiime diversity beta-group-significance`\n",
    "  * `qiime diversity adonis`"
   ]
  }
 ],
 "metadata": {
  "kernelspec": {
   "display_name": "Python 3 (ipykernel)",
   "language": "python",
   "name": "python3"
  },
  "language_info": {
   "codemirror_mode": {
    "name": "ipython",
    "version": 3
   },
   "file_extension": ".py",
   "mimetype": "text/x-python",
   "name": "python",
   "nbconvert_exporter": "python",
   "pygments_lexer": "ipython3",
   "version": "3.9.13"
  },
  "toc": {
   "base_numbering": 1,
   "nav_menu": {},
   "number_sections": true,
   "sideBar": true,
   "skip_h1_title": false,
   "title_cell": "Table of Contents",
   "title_sidebar": "Contents",
   "toc_cell": false,
   "toc_position": {},
   "toc_section_display": true,
   "toc_window_display": false
  },
  "varInspector": {
   "cols": {
    "lenName": 16,
    "lenType": 16,
    "lenVar": 40
   },
   "kernels_config": {
    "python": {
     "delete_cmd_postfix": "",
     "delete_cmd_prefix": "del ",
     "library": "var_list.py",
     "varRefreshCmd": "print(var_dic_list())"
    },
    "r": {
     "delete_cmd_postfix": ") ",
     "delete_cmd_prefix": "rm(",
     "library": "var_list.r",
     "varRefreshCmd": "cat(var_dic_list()) "
    }
   },
   "types_to_exclude": [
    "module",
    "function",
    "builtin_function_or_method",
    "instance",
    "_Feature"
   ],
   "window_display": false
  }
 },
 "nbformat": 4,
 "nbformat_minor": 5
}
