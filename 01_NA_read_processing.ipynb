{
 "cells": [
  {
   "cell_type": "markdown",
   "id": "08331499",
   "metadata": {},
   "source": [
    "# Welcome to the Bioinformatics Analysis of Microbiome Data\n",
    "\n",
    "\n",
    "We will be using [**QIIME2**] (https://qiime2.org) to analyse the read data. Instead of working locally, we will run our analyses on [**Google Colab**], a free, cloud-based platform that allows you to write and execute code in a web browser without needing to install software on your computer. \n",
    "\n",
    "This notebook and corresponding setup script have been adapted from the [**uzh-microbiome-tutorial**](https://github.com/bokulich-lab/uzh-microbiome-tutorial.git); all source code is licensed under the Apache License 2.0.\n",
    "\n",
    "\n",
    "**Notes:**\n",
    "\n",
    "-**Bash commands**\n",
    "Google Colab, by default, interprets code as Python. However, many tasks—like downloading files, moving directories, or running software like QIIME 2—are done using bash commands. To run these bash commands in Colab, we prefix them with `!`. This allows us to interact with QIIME2 using the [`q2cli`](https://github.com/qiime2/q2cli/) (QIIME 2 command-line interface). You would not need to use this prefix when using the terminal. \n",
    "\n",
    "\n",
    "-**Read before you run**\n",
    "You can run all cells in the notebook by going to `Runtime > Run all`. However, it is best to run the commands bit by bit to integrate the information and understand what we are doing. "
   ]
  },
  {
   "cell_type": "markdown",
   "id": "9bc038c3",
   "metadata": {},
   "source": [
    "## Setup\n",
    "\n",
    "QIIME 2 is usually installed by following the [official installation instructions](https://docs.qiime2.org/2023.9/install/). However, because we are using Google Colab and there are some caveats to using conda here, we will use the setup script obtained from our collaborators at the Bokulich lab. \n",
    "\n",
    "We start by cloning the repository down from GitHub into a directory named \"Materials\". \n",
    "Note: This command is intended for use in Google Colab. If working locally, you would clone the repository on your machine. "
   ]
  },
  {
   "cell_type": "code",
   "execution_count": null,
   "id": "c31ae1be",
   "metadata": {},
   "outputs": [],
   "source": [
    "! git clone https://github.com/natashaztarora/BME307_2024.git materials\n",
    "! mkdir /content/prefetch_cache ## This directory is necessary for Google Colab."
   ]
  },
  {
   "cell_type": "markdown",
   "id": "18d62eb1",
   "metadata": {},
   "source": [
    "Next we navigate to our newly created directory \"materials\" in Google Colab. "
   ]
  },
  {
   "cell_type": "code",
   "execution_count": null,
   "id": "4701122b",
   "metadata": {},
   "outputs": [],
   "source": [
    "%cd materials"
   ]
  },
  {
   "cell_type": "markdown",
   "id": "07ba9be2",
   "metadata": {},
   "source": [
    "Now we are ready to set up our environment: we will be installing dependencies and configuring the environemnt. This will take about 10 minutes.\n",
    "**Note:** This setup is only relevant for Google Colaboratory and will not work on your local machine."
   ]
  },
  {
   "cell_type": "code",
   "execution_count": null,
   "id": "8235d9b7",
   "metadata": {},
   "outputs": [],
   "source": [
    "%run setup_qiime2"
   ]
  },
  {
   "cell_type": "markdown",
   "id": "62eac2cd",
   "metadata": {},
   "source": [
    "And we will use some Python packages below, so let's load these here:"
   ]
  },
  {
   "cell_type": "code",
   "execution_count": null,
   "id": "f5e36949",
   "metadata": {},
   "outputs": [],
   "source": [
    "import numpy as np\n",
    "import pandas as pd\n",
    "import seaborn as sns"
   ]
  },
  {
   "cell_type": "markdown",
   "id": "c3670242",
   "metadata": {},
   "source": [
    "## Import data into QIIME 2\n",
    "Run the following cells first! Feel free to run these first few cells while Anton explains the basics of QIIME 2."
   ]
  },
  {
   "cell_type": "code",
   "execution_count": 1,
   "id": "5a65aa4d",
   "metadata": {},
   "outputs": [],
   "source": [
    "! mkdir -p data"
   ]
  },
  {
   "cell_type": "code",
   "execution_count": null,
   "id": "5274154b",
   "metadata": {},
   "outputs": [],
   "source": [
    "qiime tools import \\\n",
    "    --type 'SampleData[PairedEndSequencesWithQuality]' \\\n",
    "    --input-path Raw_data_zipped \\\n",
    "    --input-format CasavaOneEightSingleLanePerSampleDirFmt \\\n",
    "    --output-path demux-paired-end.qza"
   ]
  },
  {
   "cell_type": "code",
   "execution_count": null,
   "id": "e1ccd78d",
   "metadata": {},
   "outputs": [],
   "source": [
    "! qiime demux summarize \\\n",
    "    --i-data demux-paired-end.qza \\\n",
    "    --o-visualization qualities.qzv"
   ]
  },
  {
   "cell_type": "markdown",
   "id": "ba5a0055",
   "metadata": {},
   "source": [
    "Now let's explore the outputs (QZV) with [view.qiime2.org](https://view.qiime2.org)."
   ]
  },
  {
   "cell_type": "markdown",
   "id": "2ef710e7",
   "metadata": {},
   "source": [
    "## Denoise amplicon sequence variants\n",
    "\n",
    "Feature table is a type of artifact accepted by many QIIME 2 plugins/actions and used in many downstream analyses. It is used to map features (e.g. specific DNA sequences) to samples, for example by using feature counts per sample. There are several ways to construct a feature table in QIIME 2. The major choice to make while working with sequencing data is between ASVs and OTUs. Below you will see how to perform denoising of sequences to produce a table of ASVs.\n",
    "\n",
    "### DADA2: Amplicon Sequence Variants\n",
    "\n",
    "There exist several tools one can use for denoising of NGS reads. Here, we will use DADA2 to create a feature table of ASVs. DADA2 builds an error model which can identify differences between sequences, filters out noisy sequences and generates a feature table with error-corrected sequences.\n",
    "\n",
    "To denoise the single-end reads we execute the cell below, specifying some additional parameters/outputs:\n",
    "\n",
    "* `p-trunc-len` - we will truncate the reads to 135 bp (sequences shorter than this will be removed automatically)\n",
    "* `p-n-threads` - if we have more than 1 CPU available, we can specify the number here to make the processing faster\n",
    "* `output-dir`:\n",
    "  * `o-table` - this will be our ASVs feature table\n",
    "  * `o-representative-sequences` - this will be a list of all the denoised features (DNA sequences)\n",
    "  * `o-denoising-stats` - this will be some stats from the denoising process"
   ]
  },
  {
   "cell_type": "code",
   "execution_count": null,
   "id": "dcca75b7",
   "metadata": {
    "scrolled": true
   },
   "outputs": [],
   "source": [
    "! qiime dada2 denoise-single \\\n",
    "    --i-demultiplexed-seqs sequences.qza \\\n",
    "    --p-trunc-len 135 \\\n",
    "    --p-n-threads 2 \\\n",
    "    --output-dir dada2"
   ]
  },
  {
   "cell_type": "code",
   "execution_count": null,
   "id": "83d542fa",
   "metadata": {},
   "outputs": [],
   "source": [
    "# Optional\n",
    "! qiime metadata tabulate \\\n",
    "    --m-input-file dada2/denoising_stats.qza \\\n",
    "    --o-visualization dada2/denoising_stats.qzv"
   ]
  },
  {
   "cell_type": "code",
   "execution_count": null,
   "id": "b58fd35e",
   "metadata": {},
   "outputs": [],
   "source": [
    "! qiime feature-table summarize \\\n",
    "    --i-table dada2/table.qza \\\n",
    "    --m-sample-metadata-file data/moving_pictures/moving_pictures_metadata.tsv \\\n",
    "    --o-visualization dada2/table.qzv"
   ]
  },
  {
   "cell_type": "code",
   "execution_count": null,
   "id": "d0b4fb4e",
   "metadata": {},
   "outputs": [],
   "source": [
    "# Optional\n",
    "! qiime feature-table tabulate-seqs \\\n",
    "    --i-data dada2/representative_sequences.qza \\\n",
    "    --o-visualization dada2/representative_sequences.qzv"
   ]
  },
  {
   "cell_type": "markdown",
   "id": "981e1a57",
   "metadata": {},
   "source": [
    "## Generate a phylogenetic tree\n",
    "\n",
    "Now to view the tree, you can try [iTOL](https://itol.embl.de/upload.cgi).\n",
    "\n",
    "After opening the web page, click Choose File and select the tree artifact we generated above. Click Upload: after a few seconds you should see the tree.\n",
    "\n",
    "You may find it easier to navigate the tree in its \"rectangular\" representation: to change the view, select the Rectangular option in the Mode section of the Basic tab."
   ]
  },
  {
   "cell_type": "code",
   "execution_count": null,
   "id": "eb3be404",
   "metadata": {},
   "outputs": [],
   "source": [
    "! qiime phylogeny align-to-tree-mafft-fasttree \\\n",
    "    --i-sequences dada2/representative_sequences.qza \\\n",
    "    --output-dir phylogeny"
   ]
  },
  {
   "cell_type": "markdown",
   "id": "fa8d6b7b",
   "metadata": {},
   "source": [
    "## Analyze phylogenetic diversity"
   ]
  },
  {
   "cell_type": "code",
   "execution_count": null,
   "id": "3d91d3bc",
   "metadata": {},
   "outputs": [],
   "source": [
    "! qiime diversity core-metrics-phylogenetic \\\n",
    "    --i-phylogeny phylogeny/rooted_tree.qza \\\n",
    "    --i-table dada2/table.qza \\\n",
    "    --p-sampling-depth 1100 \\\n",
    "    --m-metadata-file data/moving_pictures/moving_pictures_metadata.tsv \\\n",
    "    --output-dir core-metrics-results"
   ]
  },
  {
   "cell_type": "code",
   "execution_count": null,
   "id": "e8d3460a",
   "metadata": {},
   "outputs": [],
   "source": [
    "! qiime diversity alpha-group-significance \\\n",
    "    --i-alpha-diversity core-metrics-results/faith_pd_vector.qza \\\n",
    "    --m-metadata-file data/moving_pictures/moving_pictures_metadata.tsv \\\n",
    "    --o-visualization core-metrics-results/faith_pd_group_significance.qzv"
   ]
  },
  {
   "cell_type": "code",
   "execution_count": null,
   "id": "1c3af30d",
   "metadata": {},
   "outputs": [],
   "source": [
    "# Optional\n",
    "! qiime diversity alpha-group-significance \\\n",
    "    --i-alpha-diversity core-metrics-results/evenness_vector.qza \\\n",
    "    --m-metadata-file data/moving_pictures/moving_pictures_metadata.tsv \\\n",
    "    --o-visualization core-metrics-results/evenness_group_significance.qzv"
   ]
  },
  {
   "cell_type": "code",
   "execution_count": null,
   "id": "f9ddffbe",
   "metadata": {},
   "outputs": [],
   "source": [
    "! qiime emperor plot \\\n",
    "    --i-pcoa core-metrics-results/bray_curtis_pcoa_results.qza \\\n",
    "    --m-metadata-file data/moving_pictures/moving_pictures_metadata.tsv \\\n",
    "    --o-visualization core-metrics-results/bray_curtis_pcoa.qzv"
   ]
  },
  {
   "cell_type": "markdown",
   "id": "8d43d06a",
   "metadata": {},
   "source": [
    "## Classify by taxonomy\n",
    "\n",
    "There are several ways to classify your sequences into bacterial species. One of them is to use consensus assignment based on e.g. BLAST search of a sequence against a database of known sequences. Another one is using a machine learning classifier trained on a reference database to recognize corresponding bacterial species. We will use a pretrained classifier to identify bacterial species present in our samples.\n",
    "\n",
    "We can use the `classify-sklearn` action from the feature-classifier plugin to do that. This step will require the `FeatureData[Sequence]` artifact (containing our ASVs) that we generated previously and a pre-trained taxonomic classifier."
   ]
  },
  {
   "cell_type": "code",
   "execution_count": null,
   "id": "e8a70b25",
   "metadata": {},
   "outputs": [],
   "source": [
    "! wget https://data.qiime2.org/2023.9/common/gg-13-8-99-515-806-nb-weighted-classifier.qza"
   ]
  },
  {
   "cell_type": "code",
   "execution_count": null,
   "id": "cb05f935",
   "metadata": {},
   "outputs": [],
   "source": [
    "! qiime feature-classifier classify-sklearn \\\n",
    "    --i-reads dada2/representative_sequences.qza \\\n",
    "    --i-classifier gg-13-8-99-515-806-nb-weighted-classifier.qza \\\n",
    "    --p-n-jobs 2 \\\n",
    "    --output-dir taxonomy"
   ]
  },
  {
   "cell_type": "code",
   "execution_count": null,
   "id": "e04b4d2d",
   "metadata": {},
   "outputs": [],
   "source": [
    "! qiime metadata tabulate \\\n",
    "    --m-input-file taxonomy/classification.qza \\\n",
    "    --o-visualization taxonomy/classification.qzv"
   ]
  },
  {
   "cell_type": "code",
   "execution_count": null,
   "id": "98c59a56",
   "metadata": {},
   "outputs": [],
   "source": [
    "! qiime taxa barplot \\\n",
    "    --i-table dada2/table.qza \\\n",
    "    --i-taxonomy taxonomy/classification.qza \\\n",
    "    --m-metadata-file data/moving_pictures/moving_pictures_metadata.tsv \\\n",
    "    --o-visualization taxonomy/taxa_barplot.qzv"
   ]
  },
  {
   "cell_type": "markdown",
   "id": "00c19b24",
   "metadata": {},
   "source": [
    "## Optional section: Understand differentially abundant features\n",
    "\n",
    "This section may be omitted for time, but provides an interesting mechanistic view of microbiome interactions."
   ]
  },
  {
   "cell_type": "code",
   "execution_count": null,
   "id": "2fd3c26f",
   "metadata": {},
   "outputs": [],
   "source": [
    "! mkdir diff_abund\n",
    "\n",
    "! qiime taxa collapse \\\n",
    "    --i-table dada2/table.qza \\\n",
    "    --i-taxonomy taxonomy/classification.qza \\\n",
    "    --p-level 6 \\\n",
    "    --o-collapsed-table diff_abund/table_l6.qza"
   ]
  },
  {
   "cell_type": "code",
   "execution_count": null,
   "id": "0411f725",
   "metadata": {},
   "outputs": [],
   "source": [
    "! qiime composition add-pseudocount \\\n",
    "    --i-table diff_abund/table_l6.qza \\\n",
    "    --o-composition-table diff_abund/comp_table_l6.qza"
   ]
  },
  {
   "cell_type": "code",
   "execution_count": null,
   "id": "5c94e939",
   "metadata": {},
   "outputs": [],
   "source": [
    "! qiime feature-table filter-samples \\\n",
    "    --i-table diff_abund/comp_table_l6.qza \\\n",
    "    --m-metadata-file data/moving_pictures/moving_pictures_metadata.tsv \\\n",
    "    --p-where \"[body-site]='gut'\" \\\n",
    "    --o-filtered-table diff_abund/comp_gut_table_l6.qza"
   ]
  },
  {
   "cell_type": "code",
   "execution_count": null,
   "id": "b0598450",
   "metadata": {},
   "outputs": [],
   "source": [
    "! qiime composition ancom \\\n",
    "    --i-table diff_abund/comp_gut_table_l6.qza \\\n",
    "    --m-metadata-file data/moving_pictures/moving_pictures_metadata.tsv \\\n",
    "    --m-metadata-column subject \\\n",
    "    --o-visualization diff_abund/ancom_gut_subject_l6.qzv"
   ]
  },
  {
   "cell_type": "markdown",
   "id": "00b9c64e",
   "metadata": {},
   "source": [
    "# Additional Tools\n",
    "* `q2-fondue`\n",
    "* Beta diversity methods in `q2-diversity`:\n",
    "  * `qiime diversity beta-group-significance`\n",
    "  * `qiime diversity adonis`"
   ]
  }
 ],
 "metadata": {
  "kernelspec": {
   "display_name": "Python 3 (ipykernel)",
   "language": "python",
   "name": "python3"
  },
  "language_info": {
   "codemirror_mode": {
    "name": "ipython",
    "version": 3
   },
   "file_extension": ".py",
   "mimetype": "text/x-python",
   "name": "python",
   "nbconvert_exporter": "python",
   "pygments_lexer": "ipython3",
   "version": "3.9.13"
  },
  "toc": {
   "base_numbering": 1,
   "nav_menu": {},
   "number_sections": true,
   "sideBar": true,
   "skip_h1_title": false,
   "title_cell": "Table of Contents",
   "title_sidebar": "Contents",
   "toc_cell": false,
   "toc_position": {},
   "toc_section_display": true,
   "toc_window_display": false
  },
  "varInspector": {
   "cols": {
    "lenName": 16,
    "lenType": 16,
    "lenVar": 40
   },
   "kernels_config": {
    "python": {
     "delete_cmd_postfix": "",
     "delete_cmd_prefix": "del ",
     "library": "var_list.py",
     "varRefreshCmd": "print(var_dic_list())"
    },
    "r": {
     "delete_cmd_postfix": ") ",
     "delete_cmd_prefix": "rm(",
     "library": "var_list.r",
     "varRefreshCmd": "cat(var_dic_list()) "
    }
   },
   "types_to_exclude": [
    "module",
    "function",
    "builtin_function_or_method",
    "instance",
    "_Feature"
   ],
   "window_display": false
  }
 },
 "nbformat": 4,
 "nbformat_minor": 5
}
