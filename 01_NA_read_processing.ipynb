{
 "cells": [
  {
   "cell_type": "markdown",
   "id": "08331499",
   "metadata": {},
   "source": [
    "# Welcome to the Bioinformatics Analysis of Microbiome Data\n",
    "\n",
    "\n",
    "We will be using [**QIIME2**] (https://qiime2.org) to analyse the read data. Instead of working locally, we will run our analyses on [**Google Colab**], a free, cloud-based platform that allows you to write and execute code in a web browser without needing to install software on your computer. \n",
    "\n",
    "This notebook and corresponding setup script have been adapted from the [**uzh-microbiome-tutorial**](https://github.com/bokulich-lab/uzh-microbiome-tutorial.git). We are thankful to Lina Kim and Prof. Nicholas Bokulich for their help.  All source code is licensed under the Apache License 2.0.\n",
    "\n",
    "\n",
    "**Notes:**\n",
    "\n",
    "-**Bash commands**\n",
    "Google Colab, by default, interprets code as Python. However, many tasks—like downloading files, moving directories, or running software like QIIME 2—are done using bash commands. To run these bash commands in Colab, we prefix them with `!`. This allows us to interact with QIIME2 using the [`q2cli`](https://github.com/qiime2/q2cli/) (QIIME 2 command-line interface). You would not need to use this prefix when using the terminal. \n",
    "\n",
    "\n",
    "-**Read before you run**\n",
    "While it is possible to run all cells in the notebook by going to `Runtime > Run all`, we recommend you to run the commands bit by bit to integrate the information and understand what we are doing. "
   ]
  },
  {
   "cell_type": "markdown",
   "id": "9bc038c3",
   "metadata": {},
   "source": [
    "## Setup\n",
    "\n",
    "QIIME 2 is usually installed by following the [official installation instructions](https://docs.qiime2.org/2023.9/install/). However, because we are using Google Colab and there are some caveats to using conda here, we will use the setup script obtained from our collaborators at the Bokulich lab. \n",
    "\n",
    "We start by cloning the repository down from GitHub into a directory named \"materials\" (this is within the \"content\" directory). \n",
    "\n",
    "Note: This command is intended for use in Google Colab. If working locally, you would clone the repository on your machine. "
   ]
  },
  {
   "cell_type": "code",
   "execution_count": 1,
   "id": "c31ae1be",
   "metadata": {},
   "outputs": [
    {
     "name": "stdout",
     "output_type": "stream",
     "text": [
      "Cloning into 'materials'...\n",
      "remote: Enumerating objects: 271, done.\u001b[K\n",
      "remote: Counting objects: 100% (28/28), done.\u001b[K\n",
      "remote: Compressing objects: 100% (20/20), done.\u001b[K\n",
      "remote: Total 271 (delta 16), reused 20 (delta 8), pack-reused 243 (from 1)\u001b[K\n",
      "Receiving objects: 100% (271/271), 132.55 MiB | 29.14 MiB/s, done.\n",
      "Resolving deltas: 100% (89/89), done.\n",
      "mkdir: /content: No such file or directory\n"
     ]
    }
   ],
   "source": [
    "! git clone https://github.com/natashaztarora/BME307_2024.git materials\n",
    "! mkdir /content/prefetch_cache ## This directory is necessary for Google Colab."
   ]
  },
  {
   "cell_type": "markdown",
   "id": "18d62eb1",
   "metadata": {},
   "source": [
    "Next we navigate to the \"materials\" directory, which contains a script (setup_qiime2) that we will need in the next step."
   ]
  },
  {
   "cell_type": "code",
   "execution_count": 3,
   "id": "4701122b",
   "metadata": {},
   "outputs": [],
   "source": [
    "%cd materials"
   ]
  },
  {
   "cell_type": "markdown",
   "id": "07ba9be2",
   "metadata": {},
   "source": [
    "Now we are ready to set up our environment. We will run the setup_qiime2 script to install QIIME2 and necessary dependencies, and configure the environemnt. This will take about 10 minutes.\n",
    "**Note:** This setup is only relevant for Google Colaboratory and will not work on your local machine."
   ]
  },
  {
   "cell_type": "code",
   "execution_count": 4,
   "id": "8235d9b7",
   "metadata": {},
   "outputs": [
    {
     "name": "stdout",
     "output_type": "stream",
     "text": [
      "Collecting rich\n",
      "  Obtaining dependency information for rich from https://files.pythonhosted.org/packages/c7/d9/c2a126eeae791e90ea099d05cb0515feea3688474b978343f3cdcfe04523/rich-13.8.0-py3-none-any.whl.metadata\n",
      "  Downloading rich-13.8.0-py3-none-any.whl.metadata (18 kB)\n",
      "Collecting markdown-it-py>=2.2.0 (from rich)\n",
      "  Obtaining dependency information for markdown-it-py>=2.2.0 from https://files.pythonhosted.org/packages/42/d7/1ec15b46af6af88f19b8e5ffea08fa375d433c998b8a7639e76935c14f1f/markdown_it_py-3.0.0-py3-none-any.whl.metadata\n",
      "  Downloading markdown_it_py-3.0.0-py3-none-any.whl.metadata (6.9 kB)\n",
      "Requirement already satisfied: pygments<3.0.0,>=2.13.0 in /opt/miniconda3/lib/python3.9/site-packages (from rich) (2.13.0)\n",
      "Collecting mdurl~=0.1 (from markdown-it-py>=2.2.0->rich)\n",
      "  Obtaining dependency information for mdurl~=0.1 from https://files.pythonhosted.org/packages/b3/38/89ba8ad64ae25be8de66a6d463314cf1eb366222074cfda9ee839c56a4b4/mdurl-0.1.2-py3-none-any.whl.metadata\n",
      "  Downloading mdurl-0.1.2-py3-none-any.whl.metadata (1.6 kB)\n",
      "Downloading rich-13.8.0-py3-none-any.whl (241 kB)\n",
      "   ━━━━━━━━━━━━━━━━━━━━━━━━━━━━━━━━━━━━━━━━ 241.6/241.6 kB 6.7 MB/s eta 0:00:00\n",
      "Downloading markdown_it_py-3.0.0-py3-none-any.whl (87 kB)\n",
      "   ━━━━━━━━━━━━━━━━━━━━━━━━━━━━━━━━━━━━━━━━ 87.5/87.5 kB 10.7 MB/s eta 0:00:00\n",
      "Downloading mdurl-0.1.2-py3-none-any.whl (10.0 kB)\n",
      "Installing collected packages: mdurl, markdown-it-py, rich\n",
      "Successfully installed markdown-it-py-3.0.0 mdurl-0.1.2 rich-13.8.0\n"
     ]
    },
    {
     "name": "stderr",
     "output_type": "stream",
     "text": [
      "\n",
      "[notice] A new release of pip is available: 23.2.1 -> 24.2\n",
      "[notice] To update, run: pip install --upgrade pip\n",
      "/bin/sh: qiime: command not found\n"
     ]
    },
    {
     "data": {
      "text/html": [
       "<pre style=\"white-space:pre;overflow-x:auto;line-height:normal;font-family:Menlo,'DejaVu Sans Mono',consolas,'Courier New',monospace\"><span style=\"color: #7fbfbf; text-decoration-color: #7fbfbf\">[13:01:40] </span>🐍 Miniconda is already installed. Skipped.                                           <a href=\"file:///Users/natashaarora/Documents/Academic_Research/Courses/BME307/BME307_2024/Microbiome_analyses/setup_qiime2.py\" target=\"_blank\"><span style=\"color: #7f7f7f; text-decoration-color: #7f7f7f\">setup_qiime2.py</span></a><span style=\"color: #7f7f7f; text-decoration-color: #7f7f7f\">:</span><a href=\"file:///Users/natashaarora/Documents/Academic_Research/Courses/BME307/BME307_2024/Microbiome_analyses/setup_qiime2.py#85\" target=\"_blank\"><span style=\"color: #7f7f7f; text-decoration-color: #7f7f7f\">85</span></a>\n",
       "</pre>\n"
      ],
      "text/plain": [
       "\u001b[2;36m[13:01:40]\u001b[0m\u001b[2;36m \u001b[0m🐍 Miniconda is already installed. Skipped.                                           \u001b]8;id=859814;file:///Users/natashaarora/Documents/Academic_Research/Courses/BME307/BME307_2024/Microbiome_analyses/setup_qiime2.py\u001b\\\u001b[2msetup_qiime2.py\u001b[0m\u001b]8;;\u001b\\\u001b[2m:\u001b[0m\u001b]8;id=601273;file:///Users/natashaarora/Documents/Academic_Research/Courses/BME307/BME307_2024/Microbiome_analyses/setup_qiime2.py#85\u001b\\\u001b[2m85\u001b[0m\u001b]8;;\u001b\\\n"
      ]
     },
     "metadata": {},
     "output_type": "display_data"
    },
    {
     "data": {
      "text/html": [
       "<pre style=\"white-space:pre;overflow-x:auto;line-height:normal;font-family:Menlo,'DejaVu Sans Mono',consolas,'Courier New',monospace\"><span style=\"color: #7fbfbf; text-decoration-color: #7fbfbf\">           </span>🔍 Installing mamba<span style=\"color: #808000; text-decoration-color: #808000\">...</span>                                                                <a href=\"file:///Users/natashaarora/Documents/Academic_Research/Courses/BME307/BME307_2024/Microbiome_analyses/setup_qiime2.py\" target=\"_blank\"><span style=\"color: #7f7f7f; text-decoration-color: #7f7f7f\">setup_qiime2.py</span></a><span style=\"color: #7f7f7f; text-decoration-color: #7f7f7f\">:</span><a href=\"file:///Users/natashaarora/Documents/Academic_Research/Courses/BME307/BME307_2024/Microbiome_analyses/setup_qiime2.py#39\" target=\"_blank\"><span style=\"color: #7f7f7f; text-decoration-color: #7f7f7f\">39</span></a>\n",
       "</pre>\n"
      ],
      "text/plain": [
       "\u001b[2;36m          \u001b[0m\u001b[2;36m \u001b[0m🔍 Installing mamba\u001b[33m...\u001b[0m                                                                \u001b]8;id=838067;file:///Users/natashaarora/Documents/Academic_Research/Courses/BME307/BME307_2024/Microbiome_analyses/setup_qiime2.py\u001b\\\u001b[2msetup_qiime2.py\u001b[0m\u001b]8;;\u001b\\\u001b[2m:\u001b[0m\u001b]8;id=487130;file:///Users/natashaarora/Documents/Academic_Research/Courses/BME307/BME307_2024/Microbiome_analyses/setup_qiime2.py#39\u001b\\\u001b[2m39\u001b[0m\u001b]8;;\u001b\\\n"
      ]
     },
     "metadata": {},
     "output_type": "display_data"
    },
    {
     "data": {
      "text/html": [
       "<pre style=\"white-space:pre;overflow-x:auto;line-height:normal;font-family:Menlo,'DejaVu Sans Mono',consolas,'Courier New',monospace\"><span style=\"color: #7fbfbf; text-decoration-color: #7fbfbf\">[13:11:54] </span><span style=\"color: #000080; text-decoration-color: #000080\">🔍 Done.</span>                                                                              <a href=\"file:///Users/natashaarora/Documents/Academic_Research/Courses/BME307/BME307_2024/Microbiome_analyses/setup_qiime2.py\" target=\"_blank\"><span style=\"color: #7f7f7f; text-decoration-color: #7f7f7f\">setup_qiime2.py</span></a><span style=\"color: #7f7f7f; text-decoration-color: #7f7f7f\">:</span><a href=\"file:///Users/natashaarora/Documents/Academic_Research/Courses/BME307/BME307_2024/Microbiome_analyses/setup_qiime2.py#48\" target=\"_blank\"><span style=\"color: #7f7f7f; text-decoration-color: #7f7f7f\">48</span></a>\n",
       "</pre>\n"
      ],
      "text/plain": [
       "\u001b[2;36m[13:11:54]\u001b[0m\u001b[2;36m \u001b[0m\u001b[34m🔍 Done.\u001b[0m                                                                              \u001b]8;id=718892;file:///Users/natashaarora/Documents/Academic_Research/Courses/BME307/BME307_2024/Microbiome_analyses/setup_qiime2.py\u001b\\\u001b[2msetup_qiime2.py\u001b[0m\u001b]8;;\u001b\\\u001b[2m:\u001b[0m\u001b]8;id=959738;file:///Users/natashaarora/Documents/Academic_Research/Courses/BME307/BME307_2024/Microbiome_analyses/setup_qiime2.py#48\u001b\\\u001b[2m48\u001b[0m\u001b]8;;\u001b\\\n"
      ]
     },
     "metadata": {},
     "output_type": "display_data"
    },
    {
     "data": {
      "text/html": [
       "<pre style=\"white-space:pre;overflow-x:auto;line-height:normal;font-family:Menlo,'DejaVu Sans Mono',consolas,'Courier New',monospace\"><span style=\"color: #7fbfbf; text-decoration-color: #7fbfbf\">           </span>🔍 Installing QIIME <span style=\"color: #008080; text-decoration-color: #008080; font-weight: bold\">2</span>. This may take a little bit.                                    <a href=\"file:///Users/natashaarora/Documents/Academic_Research/Courses/BME307/BME307_2024/Microbiome_analyses/setup_qiime2.py\" target=\"_blank\"><span style=\"color: #7f7f7f; text-decoration-color: #7f7f7f\">setup_qiime2.py</span></a><span style=\"color: #7f7f7f; text-decoration-color: #7f7f7f\">:</span><a href=\"file:///Users/natashaarora/Documents/Academic_Research/Courses/BME307/BME307_2024/Microbiome_analyses/setup_qiime2.py#39\" target=\"_blank\"><span style=\"color: #7f7f7f; text-decoration-color: #7f7f7f\">39</span></a>\n",
       "<span style=\"color: #7fbfbf; text-decoration-color: #7fbfbf\">           </span> 🕐                                                                                   <span style=\"color: #7f7f7f; text-decoration-color: #7f7f7f\">                  </span>\n",
       "</pre>\n"
      ],
      "text/plain": [
       "\u001b[2;36m          \u001b[0m\u001b[2;36m \u001b[0m🔍 Installing QIIME \u001b[1;36m2\u001b[0m. This may take a little bit.                                    \u001b]8;id=439076;file:///Users/natashaarora/Documents/Academic_Research/Courses/BME307/BME307_2024/Microbiome_analyses/setup_qiime2.py\u001b\\\u001b[2msetup_qiime2.py\u001b[0m\u001b]8;;\u001b\\\u001b[2m:\u001b[0m\u001b]8;id=751444;file:///Users/natashaarora/Documents/Academic_Research/Courses/BME307/BME307_2024/Microbiome_analyses/setup_qiime2.py#39\u001b\\\u001b[2m39\u001b[0m\u001b]8;;\u001b\\\n",
       "\u001b[2;36m           \u001b[0m 🕐                                                                                   \u001b[2m                  \u001b[0m\n"
      ]
     },
     "metadata": {},
     "output_type": "display_data"
    },
    {
     "data": {
      "text/html": [
       "<pre style=\"white-space:pre;overflow-x:auto;line-height:normal;font-family:Menlo,'DejaVu Sans Mono',consolas,'Courier New',monospace\"><span style=\"color: #7fbfbf; text-decoration-color: #7fbfbf\">[13:16:00] </span><span style=\"color: #800000; text-decoration-color: #800000\">could not install QIIME </span><span style=\"color: #800000; text-decoration-color: #800000; font-weight: bold\">2</span><span style=\"color: #800000; text-decoration-color: #800000\"> 😭</span> conda-forge/osx-<span style=\"color: #008080; text-decoration-color: #008080; font-weight: bold\">64</span>                                       <a href=\"file:///Users/natashaarora/Documents/Academic_Research/Courses/BME307/BME307_2024/Microbiome_analyses/setup_qiime2.py\" target=\"_blank\"><span style=\"color: #7f7f7f; text-decoration-color: #7f7f7f\">setup_qiime2.py</span></a><span style=\"color: #7f7f7f; text-decoration-color: #7f7f7f\">:</span><a href=\"file:///Users/natashaarora/Documents/Academic_Research/Courses/BME307/BME307_2024/Microbiome_analyses/setup_qiime2.py#50\" target=\"_blank\"><span style=\"color: #7f7f7f; text-decoration-color: #7f7f7f\">50</span></a>\n",
       "<span style=\"color: #7fbfbf; text-decoration-color: #7fbfbf\">           </span>Using cache                                                                           <span style=\"color: #7f7f7f; text-decoration-color: #7f7f7f\">                  </span>\n",
       "<span style=\"color: #7fbfbf; text-decoration-color: #7fbfbf\">           </span>conda-forge/noarch                                          Using cache               <span style=\"color: #7f7f7f; text-decoration-color: #7f7f7f\">                  </span>\n",
       "<span style=\"color: #7fbfbf; text-decoration-color: #7fbfbf\">           </span>bioconda/osx-<span style=\"color: #008080; text-decoration-color: #008080; font-weight: bold\">64</span>                                             Using cache               <span style=\"color: #7f7f7f; text-decoration-color: #7f7f7f\">                  </span>\n",
       "<span style=\"color: #7fbfbf; text-decoration-color: #7fbfbf\">           </span>bioconda/noarch                                             Using cache               <span style=\"color: #7f7f7f; text-decoration-color: #7f7f7f\">                  </span>\n",
       "<span style=\"color: #7fbfbf; text-decoration-color: #7fbfbf\">           </span>                                                                                      <span style=\"color: #7f7f7f; text-decoration-color: #7f7f7f\">                  </span>\n",
       "<span style=\"color: #7fbfbf; text-decoration-color: #7fbfbf\">           </span>Looking for: <span style=\"font-weight: bold\">[</span><span style=\"color: #008000; text-decoration-color: #008000\">'qiime2=2023.2'</span>, <span style=\"color: #008000; text-decoration-color: #008000\">'q2cli'</span>, <span style=\"color: #008000; text-decoration-color: #008000\">'q2templates'</span>, <span style=\"color: #008000; text-decoration-color: #008000\">'q2-alignment'</span>,                <span style=\"color: #7f7f7f; text-decoration-color: #7f7f7f\">                  </span>\n",
       "<span style=\"color: #7fbfbf; text-decoration-color: #7fbfbf\">           </span><span style=\"color: #008000; text-decoration-color: #008000\">'q2-composition'</span>, <span style=\"color: #008000; text-decoration-color: #008000\">'q2-cutadapt'</span>, <span style=\"color: #008000; text-decoration-color: #008000\">'q2-dada2'</span>, <span style=\"color: #008000; text-decoration-color: #008000\">'q2-demux'</span>, <span style=\"color: #008000; text-decoration-color: #008000\">'q2-deblur'</span>, <span style=\"color: #008000; text-decoration-color: #008000\">'q2-diversity'</span>, <span style=\"color: #7f7f7f; text-decoration-color: #7f7f7f\">                  </span>\n",
       "<span style=\"color: #7fbfbf; text-decoration-color: #7fbfbf\">           </span><span style=\"color: #008000; text-decoration-color: #008000\">'q2-diversity-lib'</span>, <span style=\"color: #008000; text-decoration-color: #008000\">'q2-emperor'</span>, <span style=\"color: #008000; text-decoration-color: #008000\">'q2-feature-classifier'</span>, <span style=\"color: #008000; text-decoration-color: #008000\">'q2-feature-table'</span>,        <span style=\"color: #7f7f7f; text-decoration-color: #7f7f7f\">                  </span>\n",
       "<span style=\"color: #7fbfbf; text-decoration-color: #7fbfbf\">           </span><span style=\"color: #008000; text-decoration-color: #008000\">'q2-fragment-insertion'</span>, <span style=\"color: #008000; text-decoration-color: #008000\">'q2-gneiss'</span>, <span style=\"color: #008000; text-decoration-color: #008000\">'q2-longitudinal'</span>, <span style=\"color: #008000; text-decoration-color: #008000\">'q2-metadata'</span>,               <span style=\"color: #7f7f7f; text-decoration-color: #7f7f7f\">                  </span>\n",
       "<span style=\"color: #7fbfbf; text-decoration-color: #7fbfbf\">           </span><span style=\"color: #008000; text-decoration-color: #008000\">'q2-mystery-stew'</span>, <span style=\"color: #008000; text-decoration-color: #008000\">'q2-phylogeny'</span>, <span style=\"color: #008000; text-decoration-color: #008000\">'q2-quality-control'</span>, <span style=\"color: #008000; text-decoration-color: #008000\">'q2-quality-filter'</span>,         <span style=\"color: #7f7f7f; text-decoration-color: #7f7f7f\">                  </span>\n",
       "<span style=\"color: #7fbfbf; text-decoration-color: #7fbfbf\">           </span><span style=\"color: #008000; text-decoration-color: #008000\">'q2-sample-classifier'</span>, <span style=\"color: #008000; text-decoration-color: #008000\">'q2-taxa'</span>, <span style=\"color: #008000; text-decoration-color: #008000\">'q2-vsearch'</span>, <span style=\"color: #008000; text-decoration-color: #008000\">\"pandas\"</span>, <span style=\"color: #008000; text-decoration-color: #008000\">'ipykernel'</span><span style=\"font-weight: bold\">]</span>               <span style=\"color: #7f7f7f; text-decoration-color: #7f7f7f\">                  </span>\n",
       "<span style=\"color: #7fbfbf; text-decoration-color: #7fbfbf\">           </span>                                                                                      <span style=\"color: #7f7f7f; text-decoration-color: #7f7f7f\">                  </span>\n",
       "<span style=\"color: #7fbfbf; text-decoration-color: #7fbfbf\">           </span>                                                                                      <span style=\"color: #7f7f7f; text-decoration-color: #7f7f7f\">                  </span>\n",
       "<span style=\"color: #7fbfbf; text-decoration-color: #7fbfbf\">           </span>Pinned packages:                                                                      <span style=\"color: #7f7f7f; text-decoration-color: #7f7f7f\">                  </span>\n",
       "<span style=\"color: #7fbfbf; text-decoration-color: #7fbfbf\">           </span>  - python <span style=\"color: #008080; text-decoration-color: #008080; font-weight: bold\">3.9</span>.*                                                                      <span style=\"color: #7f7f7f; text-decoration-color: #7f7f7f\">                  </span>\n",
       "<span style=\"color: #7fbfbf; text-decoration-color: #7fbfbf\">           </span>                                                                                      <span style=\"color: #7f7f7f; text-decoration-color: #7f7f7f\">                  </span>\n",
       "<span style=\"color: #7fbfbf; text-decoration-color: #7fbfbf\">           </span>                                                                                      <span style=\"color: #7f7f7f; text-decoration-color: #7f7f7f\">                  </span>\n",
       "<span style=\"color: #7fbfbf; text-decoration-color: #7fbfbf\">           </span>Could not solve for environment specs                                                 <span style=\"color: #7f7f7f; text-decoration-color: #7f7f7f\">                  </span>\n",
       "<span style=\"color: #7fbfbf; text-decoration-color: #7fbfbf\">           </span>Encountered problems while solving:                                                   <span style=\"color: #7f7f7f; text-decoration-color: #7f7f7f\">                  </span>\n",
       "<span style=\"color: #7fbfbf; text-decoration-color: #7fbfbf\">           </span>  - package q2-gneiss-<span style=\"color: #008080; text-decoration-color: #008080; font-weight: bold\">2021.11</span>.<span style=\"color: #008080; text-decoration-color: #008080; font-weight: bold\">0</span>-py38_0 requires python &gt;=<span style=\"color: #008080; text-decoration-color: #008080; font-weight: bold\">3.8</span>,&lt;<span style=\"color: #008080; text-decoration-color: #008080; font-weight: bold\">3.9</span>.0a0, but none of    <span style=\"color: #7f7f7f; text-decoration-color: #7f7f7f\">                  </span>\n",
       "<span style=\"color: #7fbfbf; text-decoration-color: #7fbfbf\">           </span>the providers can be installed                                                        <span style=\"color: #7f7f7f; text-decoration-color: #7f7f7f\">                  </span>\n",
       "<span style=\"color: #7fbfbf; text-decoration-color: #7fbfbf\">           </span>                                                                                      <span style=\"color: #7f7f7f; text-decoration-color: #7f7f7f\">                  </span>\n",
       "<span style=\"color: #7fbfbf; text-decoration-color: #7fbfbf\">           </span>The environment can't be solved, aborting the operation                               <span style=\"color: #7f7f7f; text-decoration-color: #7f7f7f\">                  </span>\n",
       "<span style=\"color: #7fbfbf; text-decoration-color: #7fbfbf\">           </span>                                                                                      <span style=\"color: #7f7f7f; text-decoration-color: #7f7f7f\">                  </span>\n",
       "<span style=\"color: #7fbfbf; text-decoration-color: #7fbfbf\">           </span>                                                                                      <span style=\"color: #7f7f7f; text-decoration-color: #7f7f7f\">                  </span>\n",
       "</pre>\n"
      ],
      "text/plain": [
       "\u001b[2;36m[13:16:00]\u001b[0m\u001b[2;36m \u001b[0m\u001b[31mcould not install QIIME \u001b[0m\u001b[1;31m2\u001b[0m\u001b[31m 😭\u001b[0m conda-forge/osx-\u001b[1;36m64\u001b[0m                                       \u001b]8;id=875404;file:///Users/natashaarora/Documents/Academic_Research/Courses/BME307/BME307_2024/Microbiome_analyses/setup_qiime2.py\u001b\\\u001b[2msetup_qiime2.py\u001b[0m\u001b]8;;\u001b\\\u001b[2m:\u001b[0m\u001b]8;id=706897;file:///Users/natashaarora/Documents/Academic_Research/Courses/BME307/BME307_2024/Microbiome_analyses/setup_qiime2.py#50\u001b\\\u001b[2m50\u001b[0m\u001b]8;;\u001b\\\n",
       "\u001b[2;36m           \u001b[0mUsing cache                                                                           \u001b[2m                  \u001b[0m\n",
       "\u001b[2;36m           \u001b[0mconda-forge/noarch                                          Using cache               \u001b[2m                  \u001b[0m\n",
       "\u001b[2;36m           \u001b[0mbioconda/osx-\u001b[1;36m64\u001b[0m                                             Using cache               \u001b[2m                  \u001b[0m\n",
       "\u001b[2;36m           \u001b[0mbioconda/noarch                                             Using cache               \u001b[2m                  \u001b[0m\n",
       "\u001b[2;36m           \u001b[0m                                                                                      \u001b[2m                  \u001b[0m\n",
       "\u001b[2;36m           \u001b[0mLooking for: \u001b[1m[\u001b[0m\u001b[32m'\u001b[0m\u001b[32mqiime2\u001b[0m\u001b[32m=\u001b[0m\u001b[32m2023\u001b[0m\u001b[32m.2'\u001b[0m, \u001b[32m'q2cli'\u001b[0m, \u001b[32m'q2templates'\u001b[0m, \u001b[32m'q2-alignment'\u001b[0m,                \u001b[2m                  \u001b[0m\n",
       "\u001b[2;36m           \u001b[0m\u001b[32m'q2-composition'\u001b[0m, \u001b[32m'q2-cutadapt'\u001b[0m, \u001b[32m'q2-dada2'\u001b[0m, \u001b[32m'q2-demux'\u001b[0m, \u001b[32m'q2-deblur'\u001b[0m, \u001b[32m'q2-diversity'\u001b[0m, \u001b[2m                  \u001b[0m\n",
       "\u001b[2;36m           \u001b[0m\u001b[32m'q2-diversity-lib'\u001b[0m, \u001b[32m'q2-emperor'\u001b[0m, \u001b[32m'q2-feature-classifier'\u001b[0m, \u001b[32m'q2-feature-table'\u001b[0m,        \u001b[2m                  \u001b[0m\n",
       "\u001b[2;36m           \u001b[0m\u001b[32m'q2-fragment-insertion'\u001b[0m, \u001b[32m'q2-gneiss'\u001b[0m, \u001b[32m'q2-longitudinal'\u001b[0m, \u001b[32m'q2-metadata'\u001b[0m,               \u001b[2m                  \u001b[0m\n",
       "\u001b[2;36m           \u001b[0m\u001b[32m'q2-mystery-stew'\u001b[0m, \u001b[32m'q2-phylogeny'\u001b[0m, \u001b[32m'q2-quality-control'\u001b[0m, \u001b[32m'q2-quality-filter'\u001b[0m,         \u001b[2m                  \u001b[0m\n",
       "\u001b[2;36m           \u001b[0m\u001b[32m'q2-sample-classifier'\u001b[0m, \u001b[32m'q2-taxa'\u001b[0m, \u001b[32m'q2-vsearch'\u001b[0m, \u001b[32m\"pandas\u001b[0m\u001b[32m\"\u001b[0m, \u001b[32m'ipykernel'\u001b[0m\u001b[1m]\u001b[0m               \u001b[2m                  \u001b[0m\n",
       "\u001b[2;36m           \u001b[0m                                                                                      \u001b[2m                  \u001b[0m\n",
       "\u001b[2;36m           \u001b[0m                                                                                      \u001b[2m                  \u001b[0m\n",
       "\u001b[2;36m           \u001b[0mPinned packages:                                                                      \u001b[2m                  \u001b[0m\n",
       "\u001b[2;36m           \u001b[0m  - python \u001b[1;36m3.9\u001b[0m.*                                                                      \u001b[2m                  \u001b[0m\n",
       "\u001b[2;36m           \u001b[0m                                                                                      \u001b[2m                  \u001b[0m\n",
       "\u001b[2;36m           \u001b[0m                                                                                      \u001b[2m                  \u001b[0m\n",
       "\u001b[2;36m           \u001b[0mCould not solve for environment specs                                                 \u001b[2m                  \u001b[0m\n",
       "\u001b[2;36m           \u001b[0mEncountered problems while solving:                                                   \u001b[2m                  \u001b[0m\n",
       "\u001b[2;36m           \u001b[0m  - package q2-gneiss-\u001b[1;36m2021.11\u001b[0m.\u001b[1;36m0\u001b[0m-py38_0 requires python >=\u001b[1;36m3.8\u001b[0m,<\u001b[1;36m3.9\u001b[0m.0a0, but none of    \u001b[2m                  \u001b[0m\n",
       "\u001b[2;36m           \u001b[0mthe providers can be installed                                                        \u001b[2m                  \u001b[0m\n",
       "\u001b[2;36m           \u001b[0m                                                                                      \u001b[2m                  \u001b[0m\n",
       "\u001b[2;36m           \u001b[0mThe environment can't be solved, aborting the operation                               \u001b[2m                  \u001b[0m\n",
       "\u001b[2;36m           \u001b[0m                                                                                      \u001b[2m                  \u001b[0m\n",
       "\u001b[2;36m           \u001b[0m                                                                                      \u001b[2m                  \u001b[0m\n"
      ]
     },
     "metadata": {},
     "output_type": "display_data"
    },
    {
     "data": {
      "text/html": [
       "<pre style=\"white-space:pre;overflow-x:auto;line-height:normal;font-family:Menlo,'DejaVu Sans Mono',consolas,'Courier New',monospace\"><span style=\"color: #7fbfbf; text-decoration-color: #7fbfbf\">           </span>Cleaned up unneeded files.                                                            <a href=\"file:///Users/natashaarora/Documents/Academic_Research/Courses/BME307/BME307_2024/Microbiome_analyses/setup_qiime2.py\" target=\"_blank\"><span style=\"color: #7f7f7f; text-decoration-color: #7f7f7f\">setup_qiime2.py</span></a><span style=\"color: #7f7f7f; text-decoration-color: #7f7f7f\">:</span><a href=\"file:///Users/natashaarora/Documents/Academic_Research/Courses/BME307/BME307_2024/Microbiome_analyses/setup_qiime2.py#31\" target=\"_blank\"><span style=\"color: #7f7f7f; text-decoration-color: #7f7f7f\">31</span></a>\n",
       "</pre>\n"
      ],
      "text/plain": [
       "\u001b[2;36m          \u001b[0m\u001b[2;36m \u001b[0mCleaned up unneeded files.                                                            \u001b]8;id=251730;file:///Users/natashaarora/Documents/Academic_Research/Courses/BME307/BME307_2024/Microbiome_analyses/setup_qiime2.py\u001b\\\u001b[2msetup_qiime2.py\u001b[0m\u001b]8;;\u001b\\\u001b[2m:\u001b[0m\u001b]8;id=316477;file:///Users/natashaarora/Documents/Academic_Research/Courses/BME307/BME307_2024/Microbiome_analyses/setup_qiime2.py#31\u001b\\\u001b[2m31\u001b[0m\u001b]8;;\u001b\\\n"
      ]
     },
     "metadata": {},
     "output_type": "display_data"
    },
    {
     "ename": "SystemExit",
     "evalue": "1",
     "output_type": "error",
     "traceback": [
      "An exception has occurred, use %tb to see the full traceback.\n",
      "\u001b[0;31mSystemExit\u001b[0m\u001b[0;31m:\u001b[0m 1\n"
     ]
    }
   ],
   "source": [
    "%run setup_qiime2"
   ]
  },
  {
   "cell_type": "markdown",
   "id": "62eac2cd",
   "metadata": {},
   "source": [
    "Now we will load three python packages that we will be using:"
   ]
  },
  {
   "cell_type": "code",
   "execution_count": null,
   "id": "f5e36949",
   "metadata": {},
   "outputs": [],
   "source": [
    "import numpy as np\n",
    "import pandas as pd\n",
    "import seaborn as sns"
   ]
  },
  {
   "cell_type": "markdown",
   "id": "27558d1c",
   "metadata": {},
   "source": [
    "Before we import the raw sequence data into QIIME2, let's create a new directory inside \"content/materials\" called \"raw_data_zipped\". We now upload the fastq files downloaded from SwitchDrive here, inside \"raw_data_zipped\". "
   ]
  },
  {
   "cell_type": "code",
   "execution_count": null,
   "id": "874dc220",
   "metadata": {},
   "outputs": [],
   "source": [
    "! mkdir raw_data_zipped"
   ]
  },
  {
   "cell_type": "markdown",
   "id": "84bc013b",
   "metadata": {},
   "source": [
    "## Import data into QIIME 2"
   ]
  },
  {
   "cell_type": "markdown",
   "id": "741153c7",
   "metadata": {},
   "source": [
    "Next, we will import our reads into QIIME 2 and convert them into the file format that is required for QIIME2 analyses.\n",
    "\n",
    "### How we do this\n",
    "\n",
    "We run qiime tools import specifying the following parameters:\n",
    "\n",
    "-type: whether your data is single-end or paired-end\n",
    "-input-format specifies the format of the data. The available choices are provided [**here**] (https://docs.qiime2.org/2024.5/tutorials/importing/)\n",
    "-output-path: species the output path of the artefact you generate.\n",
    "\n",
    "Run the following command:"
   ]
  },
  {
   "cell_type": "code",
   "execution_count": null,
   "id": "5274154b",
   "metadata": {},
   "outputs": [],
   "source": [
    "! qiime tools import \\\n",
    "    --type 'SampleData[PairedEndSequencesWithQuality]' \\\n",
    "    --input-path raw_data_zipped \\\n",
    "    --input-format CasavaOneEightSingleLanePerSampleDirFmt \\\n",
    "    --output-path demux-paired-end.qza"
   ]
  },
  {
   "cell_type": "markdown",
   "id": "1807cdf3",
   "metadata": {},
   "source": [
    "You can now check whether the data was imported by running qiime demux summarise, specifying the name of the input file and the name of the artefact you want to generate. You can visualise this artefact by dropping it in QIIME2 view (https://view.qiime2.org/)."
   ]
  },
  {
   "cell_type": "code",
   "execution_count": null,
   "id": "e1ccd78d",
   "metadata": {},
   "outputs": [],
   "source": [
    "! qiime demux summarize \\\n",
    "    --i-data demux-paired-end.qza \\\n",
    "    --o-visualization qualities.qzv"
   ]
  },
  {
   "cell_type": "markdown",
   "id": "ba5a0055",
   "metadata": {},
   "source": [
    "Now let's explore the outputs (QZV) with [view.qiime2.org](https://view.qiime2.org)."
   ]
  },
  {
   "cell_type": "markdown",
   "id": "ccd987fc",
   "metadata": {},
   "source": [
    "## Remove primers with Cutadapt"
   ]
  },
  {
   "cell_type": "markdown",
   "id": "164656be",
   "metadata": {},
   "source": [
    "We need to remove the primers that were used for targeted amplification. \n",
    "\n",
    "\n",
    "### How we do this\n",
    "\n",
    "To do this we use cutadapt trim-paired, specifying these main parameters:\n",
    "\n",
    "-forward primer: which is “GTGYCAGCMGCCGCGGTAA”\n",
    "\n",
    "-reverse primer: which is “CCGYCAATTYMTTTRAGTTT”\n",
    "\n",
    "-whether you have wobble bases\n",
    "\n",
    "-whether you should discard reads that were not trimmed\n"
   ]
  },
  {
   "cell_type": "code",
   "execution_count": null,
   "id": "4d3d565f",
   "metadata": {},
   "outputs": [],
   "source": [
    "! qiime cutadapt trim-paired \\\n",
    "    --i-demultiplexed-sequences demux-paired-end.qza \\\n",
    "    --p-front-f GTGYCAGCMGCCGCGGTAA \\\n",
    "    --p-front-r CCGYCAATTYMTTTRAGTTT \\\n",
    "    --p-match-adapter-wildcards \\\n",
    "    --p-discard-untrimmed \\\n",
    "    --verbose \\\n",
    "    --o-trimmed-sequences paired-end-demux-trimmed.qza | tee cutadaptresults.log\n"
   ]
  },
  {
   "cell_type": "markdown",
   "id": "99402178",
   "metadata": {},
   "source": [
    "Summarise the .qza artefact using the command below, and then visualise the trimmed reads in QIIME 2 view (https://view.qiime2.org/)."
   ]
  },
  {
   "cell_type": "code",
   "execution_count": null,
   "id": "560dce64",
   "metadata": {},
   "outputs": [],
   "source": [
    "! qiime demux summarize \\\n",
    "    --i-data paired-end-demux-trimmed.qza \\\n",
    "    --o-visualization paired-end-demux-trimmed-summary.qzv "
   ]
  },
  {
   "cell_type": "markdown",
   "id": "3855fdc8",
   "metadata": {},
   "source": [
    "Question(s):\n",
    "\n",
    "1. What are wobble bases? \n",
    "2. What does --p-match-adapter-wildcards do? \n",
    "Tip: go to the Cutadapt website to find out (https://cutadapt.readthedocs.io/en/stable/)\n",
    "3. What does --p-discard-untrimmed do? What kinds of reads might not get trimmed?\n",
    "4. For the same samples explored earlier, how many reads are there?"
   ]
  },
  {
   "cell_type": "markdown",
   "id": "2ef710e7",
   "metadata": {},
   "source": [
    "## Denoise with DADA2\n",
    "\n",
    "Now we will “denoise” the reads, that is, clean up the data to remove erroneous reads, endeavouring to retain only true biological reads. These reads may differ by one single nucleotide, and they are referred to as exact sequence variants (ESVs) or amplicon sequence variants (ASVs).\n",
    "\n",
    "### How denoising is done\n",
    "\n",
    "As we are working with paired end reads, we use qiime2 dada2 denoise-paired. Through this command, quality filtering, merging of forward and reverse reads, dereplication and removal of chimeras is conducted.\n",
    "\n",
    "The quality filtering aspect refers to trimming the ends of reads where quality is suboptimal, users can also discard sequences below a particular length. This step is done first to optimize the merging of forward and reverse reads. The merging is done according to default parameters (not specified in the command).\n",
    "\n",
    "Dereplication refers to checking the presence of all identical sequencing reads and then reducing these to one “unique sequence” with a note of its abundance. Removal of chimeras refers to the removal of sequences that are “hybrids” of different parent sequences, and which do not correspond to true ASVs..\n",
    "\n",
    "Here we will be specifying the following parameters:\n",
    "\n",
    "Truncation length for forward reads: at what length the forward reads will be cut and all reads below this length will be discarded\n",
    "Truncation length for reverse reads: at what length the reverse reads will be cut and all reads below this length will be discarded\n",
    "Note that now we will have 3 output files:\n",
    "\n",
    "1. an abundance table comprising the unique sequences and their abundance\n",
    "2. a fasta file with the unique sequences, which we refer to as the representative sequences\n",
    "3. a file containing the statistics for the denoising steps\n",
    "\n",
    "You can find more information on DADA2 here (https://benjjneb.github.io/dada2/).\n",
    "\n",
    "Run the following command:\n",
    "\n",
    "*Note: it will take a little over an hour, so best to run it over lunch:"
   ]
  },
  {
   "cell_type": "code",
   "execution_count": null,
   "id": "dcca75b7",
   "metadata": {
    "scrolled": true
   },
   "outputs": [],
   "source": [
    "! qiime dada2 denoise-paired \\\n",
    "    --i-demultiplexed-seqs paired-end-demux-trimmed.qza \\\n",
    "    --p-trunc-len-f 225 \\\n",
    "    --p-trunc-len-r 225 \\\n",
    "    --o-table table.qza \\\n",
    "    --o-representative-sequences rep-seqs.qza \\\n",
    "    --o-denoising-stats denoising-stats.qza "
   ]
  },
  {
   "cell_type": "markdown",
   "id": "98a6ec41",
   "metadata": {},
   "source": [
    "SUMMARIZE READ COUNTS¶\n",
    "\n",
    "We will now summarise the number of reads that we have in each sample, having done the denoising. We use feature-table summarize, providing a metadata file that contains information about our samples.\n",
    "\n",
    "Run the following command:"
   ]
  },
  {
   "cell_type": "code",
   "execution_count": null,
   "id": "8bbf778a",
   "metadata": {},
   "outputs": [],
   "source": [
    "! qiime feature-table summarize \\\n",
    "    --i-table table.qza \\\n",
    "    --o-visualization table.qzv \\\n",
    "    --m-sample-metadata-file metadata.tsv"
   ]
  },
  {
   "cell_type": "markdown",
   "id": "fbd454e6",
   "metadata": {},
   "source": [
    "Open QIIME2 view (https://view.qiime2.org/) and drop the table.qzv in the drag & drop window to see the results."
   ]
  },
  {
   "cell_type": "markdown",
   "id": "c58fbd17",
   "metadata": {},
   "source": [
    "Question(s):\n",
    "1. In the overview tab, what does number of features refer to?\n",
    "2. In the interactive tab, quantitatively compare the number of reads before and after denoising for all 18 samples.\n",
    "3. Get together in pairs, and calculate the percentage of reads that have been retained for each sample."
   ]
  },
  {
   "cell_type": "markdown",
   "id": "a551cdeb",
   "metadata": {},
   "source": [
    "Optional command: Visualise the representative sequences after denoising with DADA2 We use qiime feature-table tabulate-seqs to see the unique/representative sequences. To run the command below, we need to upload the metadata file to the \"materials\" folder. \n",
    "\n",
    "Run the following command:"
   ]
  },
  {
   "cell_type": "code",
   "execution_count": null,
   "id": "83d542fa",
   "metadata": {},
   "outputs": [],
   "source": [
    "! qiime feature-table tabulate-seqs \\\n",
    "    --i-data rep-seqs.qza \\\n",
    "    --o-visualization rep-seqs.qzv"
   ]
  },
  {
   "cell_type": "markdown",
   "id": "89f5360a",
   "metadata": {},
   "source": [
    "## Assign taxonomy¶\n",
    "\n",
    "We now assign taxonomy to the unique/representative sequences found across all samples. We do this with the q2-feature-classifier plugin, making use of a pre-trained Naive Bayes classifier. This classifier is an algorithm that was trained on the SILVA reference database (downloadedDecember 2019) comprising hundreds of thousands of bacterial sequences with taxonomic information. The output is a file containing the results for the different taxonomic ranks (from domain to species), and the level of confidence for the taxonomic assignment."
   ]
  },
  {
   "cell_type": "code",
   "execution_count": null,
   "id": "d0b4fb4e",
   "metadata": {},
   "outputs": [],
   "source": [
    "! qiime feature-classifier classify-sklearn \\\n",
    "    --i-classifier silva-138.1-ssu-nr99-V4V5-classifier2.qza \\\n",
    "    --i-reads rep-seqs.qza \\\n",
    "    --o-classification taxonomy.qza"
   ]
  },
  {
   "cell_type": "markdown",
   "id": "be8fbba3",
   "metadata": {},
   "source": [
    "Tabulate the taxonomy with the following command. "
   ]
  },
  {
   "cell_type": "code",
   "execution_count": null,
   "id": "57c4c812",
   "metadata": {},
   "outputs": [],
   "source": [
    "! qiime metadata tabulate \\\n",
    "    --m-input-file taxonomy.qza \\\n",
    "    --o-visualization taxonomy.qzv"
   ]
  },
  {
   "cell_type": "markdown",
   "id": "e45bb254",
   "metadata": {},
   "source": [
    "Question(s):\n",
    "\n",
    "1. What are the different taxonomic ranks that are being assigned?\n",
    "2. Are there any sequences that are not bacterial? If so, what are they?"
   ]
  },
  {
   "cell_type": "markdown",
   "id": "5459a193",
   "metadata": {},
   "source": [
    "Filter non-bacterial sequences¶\n",
    "\n",
    "Our library preparation and sequencing targets the prokaryotic 16S rRNA gene, but we may end up obtaining reads that are not prokaryotic eg from chloroplasts or mitochondria, and with reads that originate from archaea, which we are not looking at in this study. By using taxa filter-table we can specify what taxa we want to retain and what taxa we want to exclude in the ASV abundance table. With “mode” we are specifying that we want the search terms not to be case sensitive e.g. Eukaryota/eukaryota.\n",
    "\n",
    "Run the following commands:"
   ]
  },
  {
   "cell_type": "code",
   "execution_count": null,
   "id": "3ccae0f9",
   "metadata": {},
   "outputs": [],
   "source": [
    "! qiime taxa filter-table \\\n",
    "--i-table table.qza \\\n",
    "--i-taxonomy taxonomy.qza \\\n",
    "--p-mode contains \\\n",
    "--p-include d__ \\\n",
    "--p-exclude 'd__;,Eukaryota' \\\n",
    "--o-filtered-table filtered-table.qza"
   ]
  },
  {
   "cell_type": "code",
   "execution_count": null,
   "id": "d7fb4b57",
   "metadata": {},
   "outputs": [],
   "source": [
    "! qiime feature-table filter-seqs \\\n",
    "--i-data rep-seqs.qza \\\n",
    "--i-table filtered-table.qza \\\n",
    "--o-filtered-data filtered-sequences.qza"
   ]
  },
  {
   "cell_type": "code",
   "execution_count": null,
   "id": "a7bb51e2",
   "metadata": {},
   "outputs": [],
   "source": [
    "! qiime feature-table summarize \\\n",
    "--i-table filtered-table.qza \\\n",
    "--o-visualization filtered-table.qzv \\\n",
    "--m-sample-metadata-file metadata.tsv"
   ]
  },
  {
   "cell_type": "markdown",
   "id": "c7cac7e2",
   "metadata": {},
   "source": [
    "Question:\n",
    "\n",
    "What are the last command being used for?"
   ]
  },
  {
   "cell_type": "markdown",
   "id": "54a6d70f",
   "metadata": {},
   "source": [
    "Generate taxonomic barplots¶\n",
    "\n",
    "In order to visualise the relative abundance of the taxa in each sample, we use taxa barplot\n",
    "\n",
    "Run the following command:"
   ]
  },
  {
   "cell_type": "code",
   "execution_count": null,
   "id": "b6762a84",
   "metadata": {},
   "outputs": [],
   "source": [
    "! qiime taxa barplot \\\n",
    "--i-table filtered-table.qza \\\n",
    "--i-taxonomy taxonomy.qza \\\n",
    "--m-metadata-file metadata.tsv \\\n",
    "--o-visualization taxa-bar-plots-1.qzv"
   ]
  },
  {
   "cell_type": "markdown",
   "id": "c99b7151",
   "metadata": {},
   "source": [
    "Question(s):\n",
    "\n",
    "1. What taxonomic ranks correspond to the different “levels”?\n",
    "2. What patterns do you observe at the different taxonomic ranks/levels? Do you observe any differences across the three groups?\n",
    "3. Which taxonomic rank provides most information about the differences across the groups?\n",
    "4. Which taxa differ most, in terms of relative abundance, across the three groups?\n",
    "5. Investigate these taxa using online resources: what other relevant information can you find in the literature?"
   ]
  },
  {
   "cell_type": "markdown",
   "id": "32d94929",
   "metadata": {},
   "source": [
    "Generate the rarefaction curve¶\n",
    "\n",
    "We expect greater sequencing depth to allow us to capture bacterial diversity more accurately: as sequencing depth increases, more and more taxa are recovered. You can see this in the rarefaction plot, where we look at the changes in observed features (ASVs) recovered at different sequencing depths (number of reads sequenced). However, at a certain point we observe that the number of features recovered stabilises: we reach a plateau, and we infer that the sequencing depth is sufficient.\n",
    "\n",
    "Plot the rarefaction curves for the samples from the dataset using diversity alpha-rarefaction."
   ]
  },
  {
   "cell_type": "code",
   "execution_count": null,
   "id": "f50617de",
   "metadata": {},
   "outputs": [],
   "source": [
    "! qiime diversity alpha-rarefaction \\\n",
    "    --i-table filtered-table.qza \\\n",
    "    --i-phylogeny rooted-tree.qza \\\n",
    "    --m-metadata-file metadata.tsv \\\n",
    "    --p-max-depth 88500 \\\n",
    "    --o-visualization alpha-rarefaction-plot.qzv"
   ]
  },
  {
   "cell_type": "markdown",
   "id": "0563acc6",
   "metadata": {},
   "source": [
    "Help on aplha diversity: qiime diversity alpha-rarefaction –help"
   ]
  },
  {
   "cell_type": "markdown",
   "id": "f8981082",
   "metadata": {},
   "source": [
    "Question(s):\n",
    "\n",
    "1. Why did we specify a max depth of 88,500?\n",
    "2. Do you observe differences across the three groups?"
   ]
  },
  {
   "cell_type": "markdown",
   "id": "3da48e3a",
   "metadata": {},
   "source": [
    "Core metrics phylogenetic: alpha and beta diversities¶¶\n",
    "\n",
    "To investigate alpha and beta diversity, we use diversity core-metrics-phylogenetic, computing the following metrics.\n",
    "\n",
    "Alpha diversity indices\n",
    "Shannon’s diversity\n",
    "Observed Features (in this case ASVs)\n",
    "Faith’s Phylogenetic Diversity\n",
    "Evenness\n",
    "Beta diversity distances\n",
    "Jaccard distance\n",
    "Bray-Curtis distance\n",
    "unweighted UniFrac distance\n",
    "weighted UniFrac distance\n",
    "\n",
    "To run these analyses, in addition to the ASV abundance table, we need to provide a phylogenetic tree (already generated for you) and the metadata file. To increase computational speed we use the --p-n-jobs-or-threads.\n",
    "\n",
    "Importantly, diversity core-metrics-phylogenetic requires us to use the same sampling depth for all samples. Thus, we need to provide a sampling depth, that is, the number of total reads from each sample that will be used. If we want to keep all samples in the analyses, we will have to specify the minimum read depth in our sample set. Do you recall what this was? Make sure to specify it with--p-sampling-depth\n",
    "\n",
    "Run the following command:\n",
    "\n",
    "**Note: We use qiime diversity core-metrics-phylogenetic to generate a set of results."
   ]
  },
  {
   "cell_type": "code",
   "execution_count": null,
   "id": "3752a276",
   "metadata": {},
   "outputs": [],
   "source": [
    "! qiime diversity core-metrics-phylogenetic \\\n",
    "    --i-phylogeny rooted-tree.qza \\\n",
    "    --i-table filtered-table.qza \\\n",
    "    --p-sampling-depth xxxx \\\n",
    "    --m-metadata-file metadata.tsv \\\n",
    "    --output-dir diversity-core-metrics-phylogenetic"
   ]
  },
  {
   "cell_type": "markdown",
   "id": "5da8927e",
   "metadata": {},
   "source": [
    "View the folders that have been generated by running:"
   ]
  },
  {
   "cell_type": "code",
   "execution_count": null,
   "id": "2a4388ae",
   "metadata": {},
   "outputs": [],
   "source": [
    "! ls -l QIIME2_files/diversity-core-metrics-phylogenetic"
   ]
  },
  {
   "cell_type": "markdown",
   "id": "15acd1e7",
   "metadata": {},
   "source": [
    "ALPHA DIVERSITY AND SIGNIFICANCE¶\n",
    "\n",
    "We will first focus on alpha (intra-sample diversity) and return to beta diversities later again. For the alpha diversity indices, we check whether there are significant differences across groups. We do so using diversity alpha-group significance. You can do this for any of the indices computed.\n",
    "\n",
    "Run the following command to test statistically significant differences for the “observed features” index:"
   ]
  },
  {
   "cell_type": "code",
   "execution_count": null,
   "id": "77cf3409",
   "metadata": {},
   "outputs": [],
   "source": [
    "! qiime diversity alpha-group-significance \\\n",
    "    --i-alpha-diversity diversity-core-metrics-phylogenetic/observed_features_vector.qza \\\n",
    "    --m-metadata-file metadata.tsv \\\n",
    "    --o-visualization alpha-group-sig-obs-feats.qzv"
   ]
  },
  {
   "cell_type": "markdown",
   "id": "e693fe17",
   "metadata": {},
   "source": [
    "Question(s):\n",
    "\n",
    "1. Explore the alpha diversity indices, and test statistical significance for these. In pairs, discuss the patterns observed. Which “groups” of samples have higher intra-sample diversity? Which groups have lower intra-sample diversity? What could be potential explanations?\n",
    "2. Are the alpha diversity patterns congruent with the taxonomic composition observed in the barplots?"
   ]
  },
  {
   "cell_type": "markdown",
   "id": "98302fb0",
   "metadata": {},
   "source": [
    "For turbo learners Now run the previous command specifying different sampling depths (remember to save the output file under a different name)."
   ]
  },
  {
   "cell_type": "markdown",
   "id": "6866246a",
   "metadata": {},
   "source": [
    "BETA DIVERSITY AND SIGNIFICANCE¶\n",
    "\n",
    "We now focus on beta diversity (inter-sample diversity). To test significance we use diversity beta-group significance. We will do so for the Bray Curtis distance matrix."
   ]
  },
  {
   "cell_type": "code",
   "execution_count": null,
   "id": "143e9f0c",
   "metadata": {},
   "outputs": [],
   "source": [
    "! qiime diversity beta-group-significance \\\n",
    "    --i-distance-matrix diversity-core-metrics-phylogenetic/bray_curtis_distance_matrix.qza \\\n",
    "    --m-metadata-file metadata.tsv \\\n",
    "    --m-metadata-column type \\\n",
    "    --o-visualization diversity-core-metrics-phylogenetic/braycurtis-type-significance.qzv \\\n",
    "    --p-pairwise"
   ]
  },
  {
   "cell_type": "markdown",
   "id": "75a87fe5",
   "metadata": {},
   "source": [
    "Question(s):\n",
    "\n",
    "1. Explore the different distance metrics and the corresponding PCoA plots generated. What are the similarities and differences?\n",
    "2. Now focus on the weighted and the unweighted unifrac distance matrices. Are there significant differences across the groups with these distance matrices?"
   ]
  }
 ],
 "metadata": {
  "kernelspec": {
   "display_name": "Python 3 (ipykernel)",
   "language": "python",
   "name": "python3"
  },
  "language_info": {
   "codemirror_mode": {
    "name": "ipython",
    "version": 3
   },
   "file_extension": ".py",
   "mimetype": "text/x-python",
   "name": "python",
   "nbconvert_exporter": "python",
   "pygments_lexer": "ipython3",
   "version": "3.9.13"
  },
  "toc": {
   "base_numbering": 1,
   "nav_menu": {},
   "number_sections": true,
   "sideBar": true,
   "skip_h1_title": false,
   "title_cell": "Table of Contents",
   "title_sidebar": "Contents",
   "toc_cell": false,
   "toc_position": {},
   "toc_section_display": true,
   "toc_window_display": false
  },
  "varInspector": {
   "cols": {
    "lenName": 16,
    "lenType": 16,
    "lenVar": 40
   },
   "kernels_config": {
    "python": {
     "delete_cmd_postfix": "",
     "delete_cmd_prefix": "del ",
     "library": "var_list.py",
     "varRefreshCmd": "print(var_dic_list())"
    },
    "r": {
     "delete_cmd_postfix": ") ",
     "delete_cmd_prefix": "rm(",
     "library": "var_list.r",
     "varRefreshCmd": "cat(var_dic_list()) "
    }
   },
   "types_to_exclude": [
    "module",
    "function",
    "builtin_function_or_method",
    "instance",
    "_Feature"
   ],
   "window_display": false
  }
 },
 "nbformat": 4,
 "nbformat_minor": 5
}
